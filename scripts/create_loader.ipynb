{
 "cells": [
  {
   "cell_type": "code",
   "execution_count": null,
   "metadata": {},
   "outputs": [],
   "source": [
    "import os\n",
    "import pandas as pd\n",
    "import cx_Oracle\n",
    "from dotenv import load_dotenv"
   ]
  },
  {
   "cell_type": "markdown",
   "metadata": {},
   "source": [
    "### Inicializálás"
   ]
  },
  {
   "cell_type": "code",
   "execution_count": null,
   "metadata": {},
   "outputs": [],
   "source": [
    "load_dotenv()\n",
    "username = os.getenv('ORACLE_USERNAME')\n",
    "password = os.getenv('ORACLE_PASSWORD')\n",
    "dsn = os.getenv('ORACLE_DSN')\n",
    "pool = cx_Oracle.SessionPool(user=username, password=password, dsn=dsn, min=2, max=5, increment=1)\n",
    "\n",
    "input_file = 'BETÖLTŐ_május.xlsx'\n",
    "output_file = 'elokeszit.xlsx'\n",
    "KID='397451/2024'\n",
    "AHT='397451'\n",
    "\n",
    "def get_data(ksh):\n",
    "    query = f'''\n",
    "select \n",
    "    onk.ksh, \n",
    "    onk.onev, \n",
    "    SUBSTR(st.torzs_sz||'-'||st.afakod||'-'||st.mk, 0, 8) as torzsszam, \n",
    "    cim.irszam, cim.koztnev||' '||cim.kozjell as cim, \n",
    "    cim.hsz1 as hsz, \n",
    "    TRIM(rk.megnevezes) as regio\n",
    "from SUPPORTSYS.t_onkorm_tech onk\n",
    "left join (select * from SUPPORTSYS.t_stat) st on st.ksh=onk.ksh\n",
    "left join (select * from SUPPORTSYS.t_cim) cim on cim.ksh=onk.ksh\n",
    "left join SUPPORTSYS.t_regio rk on rk.regiokod=onk.rk\n",
    "where onk.ksh='{ksh}'\n",
    "'''\n",
    "    connection = pool.acquire()\n",
    "    cursor = connection.cursor()\n",
    "    cursor.execute(query)\n",
    "    data = cursor.fetchall()    \n",
    "    pool.release(connection)\n",
    "    return data"
   ]
  },
  {
   "cell_type": "markdown",
   "metadata": {},
   "source": [
    "### EBR betöltő beolvasás"
   ]
  },
  {
   "cell_type": "code",
   "execution_count": null,
   "metadata": {},
   "outputs": [],
   "source": [
    "df = pd.read_excel(f'./data/{input_file}', usecols=[1, 2, 6], names=['KSH', 'ONK', 'AMOUNT'])\n",
    "df['KSH'] = df['KSH'].astype(str).str.zfill(7)\n",
    "df['KID'] = KID\n",
    "df['AHT'] = AHT\n",
    "df['ONEV'] = ''\n",
    "df['TORZSSZAM'] = ''\n",
    "df['IRSZAM'] = ''\n",
    "df['CIM'] = ''\n",
    "df['HSZ'] = ''\n",
    "df['REGIO'] = ''\n",
    "\n",
    "df.head()"
   ]
  },
  {
   "cell_type": "markdown",
   "metadata": {},
   "source": [
    "### Szükséges adatok az adatbázisból"
   ]
  },
  {
   "cell_type": "code",
   "execution_count": null,
   "metadata": {},
   "outputs": [],
   "source": [
    "column_names = ['ONEV', 'TORZSSZAM', 'IRSZAM', 'CIM', 'HSZ', 'REGIO']\n",
    "\n",
    "for index, row in df.iterrows():\n",
    "    ksh_value = row['KSH']\n",
    "    data = get_data(ksh_value)\n",
    "    for i, column_name in enumerate(column_names):\n",
    "        df.at[index, column_name] = data[0][i+1]\n",
    "df.head()"
   ]
  },
  {
   "cell_type": "markdown",
   "metadata": {},
   "source": [
    "### Bezárás"
   ]
  },
  {
   "cell_type": "code",
   "execution_count": null,
   "metadata": {},
   "outputs": [],
   "source": [
    "pool.close()\n",
    "df.to_excel(f'./data/{output_file}', index=False)"
   ]
  }
 ],
 "metadata": {
  "kernelspec": {
   "display_name": ".venv",
   "language": "python",
   "name": "python3"
  },
  "language_info": {
   "codemirror_mode": {
    "name": "ipython",
    "version": 3
   },
   "file_extension": ".py",
   "mimetype": "text/x-python",
   "name": "python",
   "nbconvert_exporter": "python",
   "pygments_lexer": "ipython3",
   "version": "3.10.8"
  }
 },
 "nbformat": 4,
 "nbformat_minor": 2
}
