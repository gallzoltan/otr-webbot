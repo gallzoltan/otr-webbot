{
 "cells": [
  {
   "cell_type": "code",
   "execution_count": 1,
   "metadata": {},
   "outputs": [],
   "source": [
    "import os\n",
    "import pandas as pd\n",
    "import cx_Oracle\n",
    "from dotenv import load_dotenv"
   ]
  },
  {
   "cell_type": "code",
   "execution_count": 12,
   "metadata": {},
   "outputs": [],
   "source": [
    "load_dotenv()\n",
    "username = os.getenv('ORACLE_USERNAME')\n",
    "password = os.getenv('ORACLE_PASSWORD')\n",
    "dsn = os.getenv('ORACLE_DSN')\n",
    "pool = cx_Oracle.SessionPool(user=username, password=password, dsn=dsn, min=2, max=5, increment=1)"
   ]
  },
  {
   "cell_type": "code",
   "execution_count": 9,
   "metadata": {},
   "outputs": [],
   "source": [
    "KID='397451/2024'\n",
    "AHT='397451'"
   ]
  },
  {
   "cell_type": "code",
   "execution_count": 11,
   "metadata": {},
   "outputs": [
    {
     "data": {
      "text/html": [
       "<div>\n",
       "<style scoped>\n",
       "    .dataframe tbody tr th:only-of-type {\n",
       "        vertical-align: middle;\n",
       "    }\n",
       "\n",
       "    .dataframe tbody tr th {\n",
       "        vertical-align: top;\n",
       "    }\n",
       "\n",
       "    .dataframe thead th {\n",
       "        text-align: right;\n",
       "    }\n",
       "</style>\n",
       "<table border=\"1\" class=\"dataframe\">\n",
       "  <thead>\n",
       "    <tr style=\"text-align: right;\">\n",
       "      <th></th>\n",
       "      <th>KSH</th>\n",
       "      <th>ONK</th>\n",
       "      <th>AMOUNT</th>\n",
       "      <th>KID</th>\n",
       "      <th>AHT</th>\n",
       "    </tr>\n",
       "  </thead>\n",
       "  <tbody>\n",
       "    <tr>\n",
       "      <th>0</th>\n",
       "      <td>1904561</td>\n",
       "      <td>Ábrahámhegy</td>\n",
       "      <td>720000</td>\n",
       "      <td>397451/2024</td>\n",
       "      <td>397451</td>\n",
       "    </tr>\n",
       "    <tr>\n",
       "      <th>1</th>\n",
       "      <td>1406080</td>\n",
       "      <td>Ádánd</td>\n",
       "      <td>750000</td>\n",
       "      <td>397451/2024</td>\n",
       "      <td>397451</td>\n",
       "    </tr>\n",
       "    <tr>\n",
       "      <th>2</th>\n",
       "      <td>0303522</td>\n",
       "      <td>Baja</td>\n",
       "      <td>300000</td>\n",
       "      <td>397451/2024</td>\n",
       "      <td>397451</td>\n",
       "    </tr>\n",
       "    <tr>\n",
       "      <th>3</th>\n",
       "      <td>0402680</td>\n",
       "      <td>Békésszentandrás</td>\n",
       "      <td>1050000</td>\n",
       "      <td>397451/2024</td>\n",
       "      <td>397451</td>\n",
       "    </tr>\n",
       "    <tr>\n",
       "      <th>4</th>\n",
       "      <td>1520677</td>\n",
       "      <td>Beregsurány</td>\n",
       "      <td>765000</td>\n",
       "      <td>397451/2024</td>\n",
       "      <td>397451</td>\n",
       "    </tr>\n",
       "  </tbody>\n",
       "</table>\n",
       "</div>"
      ],
      "text/plain": [
       "       KSH               ONK   AMOUNT          KID     AHT\n",
       "0  1904561       Ábrahámhegy   720000  397451/2024  397451\n",
       "1  1406080             Ádánd   750000  397451/2024  397451\n",
       "2  0303522              Baja   300000  397451/2024  397451\n",
       "3  0402680  Békésszentandrás  1050000  397451/2024  397451\n",
       "4  1520677       Beregsurány   765000  397451/2024  397451"
      ]
     },
     "execution_count": 11,
     "metadata": {},
     "output_type": "execute_result"
    }
   ],
   "source": [
    "df = pd.read_excel('./data/BETÖLTŐ_május.xlsx', usecols=[1, 2, 6], names=['KSH', 'ONK', 'AMOUNT'])\n",
    "df['KSH'] = df['KSH'].astype(str).str.zfill(7)\n",
    "df['KID'] = KID\n",
    "df['AHT'] = AHT\n",
    "\n",
    "df.head()"
   ]
  },
  {
   "cell_type": "code",
   "execution_count": 13,
   "metadata": {},
   "outputs": [
    {
     "name": "stdout",
     "output_type": "stream",
     "text": [
      "1904561\n",
      "1406080\n",
      "0303522\n",
      "0402680\n",
      "1520677\n",
      "1308891\n",
      "1706497\n",
      "0113578\n",
      "0118069\n",
      "0108208\n",
      "0326471\n",
      "1530641\n",
      "1613170\n",
      "1707685\n",
      "1125131\n",
      "1616647\n",
      "0314058\n",
      "0202857\n",
      "2002097\n",
      "0405032\n",
      "0912803\n",
      "1907898\n",
      "0511697\n",
      "0608314\n",
      "1213204\n",
      "1618209\n",
      "0828334\n",
      "0322530\n",
      "1117330\n",
      "0522840\n",
      "0320297\n",
      "0332434\n",
      "2016081\n",
      "2016364\n",
      "0527395\n",
      "0507825\n",
      "0718485\n",
      "0828149\n",
      "1221102\n",
      "1826143\n",
      "0423065\n",
      "0207010\n",
      "2005704\n",
      "1033686\n",
      "0517048\n",
      "0833701\n",
      "0531884\n",
      "0723694\n",
      "1108688\n",
      "0614456\n",
      "1831583\n",
      "0216355\n",
      "1011013\n",
      "1803009\n",
      "0923214\n",
      "0819035\n",
      "1630386\n",
      "1628228\n",
      "1509919\n",
      "1318342\n",
      "1911767\n"
     ]
    }
   ],
   "source": [
    "#connection = pool.acquire()\n",
    "for index, row in df.iterrows():\n",
    "    ksh_value = row['KSH']\n",
    "    print(ksh_value)\n",
    "#pool.release(connection)"
   ]
  },
  {
   "cell_type": "code",
   "execution_count": 14,
   "metadata": {},
   "outputs": [],
   "source": [
    "pool.close()"
   ]
  }
 ],
 "metadata": {
  "kernelspec": {
   "display_name": ".venv",
   "language": "python",
   "name": "python3"
  },
  "language_info": {
   "codemirror_mode": {
    "name": "ipython",
    "version": 3
   },
   "file_extension": ".py",
   "mimetype": "text/x-python",
   "name": "python",
   "nbconvert_exporter": "python",
   "pygments_lexer": "ipython3",
   "version": "3.10.8"
  }
 },
 "nbformat": 4,
 "nbformat_minor": 2
}
